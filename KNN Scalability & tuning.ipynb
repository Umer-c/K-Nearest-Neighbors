{
 "cells": [
  {
   "cell_type": "markdown",
   "id": "0d8c04e7",
   "metadata": {},
   "source": [
    "# K-Nearest-Neighbors"
   ]
  },
  {
   "cell_type": "code",
   "execution_count": 1,
   "id": "fdd92f9b",
   "metadata": {},
   "outputs": [
    {
     "data": {
      "text/html": [
       "<div>\n",
       "<style scoped>\n",
       "    .dataframe tbody tr th:only-of-type {\n",
       "        vertical-align: middle;\n",
       "    }\n",
       "\n",
       "    .dataframe tbody tr th {\n",
       "        vertical-align: top;\n",
       "    }\n",
       "\n",
       "    .dataframe thead th {\n",
       "        text-align: right;\n",
       "    }\n",
       "</style>\n",
       "<table border=\"1\" class=\"dataframe\">\n",
       "  <thead>\n",
       "    <tr style=\"text-align: right;\">\n",
       "      <th></th>\n",
       "      <th>GrLivArea</th>\n",
       "      <th>BedroomAbvGr</th>\n",
       "      <th>KitchenAbvGr</th>\n",
       "      <th>OverallCond</th>\n",
       "      <th>CentralAir</th>\n",
       "      <th>SalePrice</th>\n",
       "    </tr>\n",
       "  </thead>\n",
       "  <tbody>\n",
       "    <tr>\n",
       "      <th>0</th>\n",
       "      <td>0.380070</td>\n",
       "      <td>0.375</td>\n",
       "      <td>0.333333</td>\n",
       "      <td>0.500</td>\n",
       "      <td>1</td>\n",
       "      <td>208500</td>\n",
       "    </tr>\n",
       "    <tr>\n",
       "      <th>1</th>\n",
       "      <td>-0.312090</td>\n",
       "      <td>0.375</td>\n",
       "      <td>0.333333</td>\n",
       "      <td>0.875</td>\n",
       "      <td>1</td>\n",
       "      <td>181500</td>\n",
       "    </tr>\n",
       "    <tr>\n",
       "      <th>2</th>\n",
       "      <td>0.497489</td>\n",
       "      <td>0.375</td>\n",
       "      <td>0.333333</td>\n",
       "      <td>0.500</td>\n",
       "      <td>1</td>\n",
       "      <td>223500</td>\n",
       "    </tr>\n",
       "    <tr>\n",
       "      <th>3</th>\n",
       "      <td>0.390885</td>\n",
       "      <td>0.375</td>\n",
       "      <td>0.333333</td>\n",
       "      <td>0.500</td>\n",
       "      <td>1</td>\n",
       "      <td>140000</td>\n",
       "    </tr>\n",
       "    <tr>\n",
       "      <th>4</th>\n",
       "      <td>1.134029</td>\n",
       "      <td>0.500</td>\n",
       "      <td>0.333333</td>\n",
       "      <td>0.500</td>\n",
       "      <td>1</td>\n",
       "      <td>250000</td>\n",
       "    </tr>\n",
       "  </tbody>\n",
       "</table>\n",
       "</div>"
      ],
      "text/plain": [
       "   GrLivArea  BedroomAbvGr  KitchenAbvGr  OverallCond  CentralAir  SalePrice\n",
       "0   0.380070         0.375      0.333333        0.500           1     208500\n",
       "1  -0.312090         0.375      0.333333        0.875           1     181500\n",
       "2   0.497489         0.375      0.333333        0.500           1     223500\n",
       "3   0.390885         0.375      0.333333        0.500           1     140000\n",
       "4   1.134029         0.500      0.333333        0.500           1     250000"
      ]
     },
     "execution_count": 1,
     "metadata": {},
     "output_type": "execute_result"
    }
   ],
   "source": [
    "import pandas as pd\n",
    "import matplotlib.pyplot as plt\n",
    "df = pd.read_csv(\"ML_Houses_clean.csv\")\n",
    "df.head()"
   ]
  },
  {
   "cell_type": "markdown",
   "id": "81fdeaab",
   "metadata": {},
   "source": [
    "💡 Most features are already preprocessed (scaled with normalization), as I have already worked on this Data, for Machine learning project \n",
    "\n",
    "💡 One feature, `GrLiveArea`, is not normalized. Let's keep it that way to see the impact of its normalization on our model performance later on  \n",
    "\n",
    "Let's check the min and max   "
   ]
  },
  {
   "cell_type": "code",
   "execution_count": 2,
   "id": "9d2f024e",
   "metadata": {},
   "outputs": [
    {
     "data": {
      "text/html": [
       "<div>\n",
       "<style scoped>\n",
       "    .dataframe tbody tr th:only-of-type {\n",
       "        vertical-align: middle;\n",
       "    }\n",
       "\n",
       "    .dataframe tbody tr th {\n",
       "        vertical-align: top;\n",
       "    }\n",
       "\n",
       "    .dataframe thead th {\n",
       "        text-align: right;\n",
       "    }\n",
       "</style>\n",
       "<table border=\"1\" class=\"dataframe\">\n",
       "  <thead>\n",
       "    <tr style=\"text-align: right;\">\n",
       "      <th></th>\n",
       "      <th>GrLivArea</th>\n",
       "      <th>BedroomAbvGr</th>\n",
       "      <th>KitchenAbvGr</th>\n",
       "      <th>OverallCond</th>\n",
       "      <th>CentralAir</th>\n",
       "      <th>SalePrice</th>\n",
       "    </tr>\n",
       "  </thead>\n",
       "  <tbody>\n",
       "    <tr>\n",
       "      <th>count</th>\n",
       "      <td>1460.000000</td>\n",
       "      <td>1460.000000</td>\n",
       "      <td>1460.000000</td>\n",
       "      <td>1460.000000</td>\n",
       "      <td>1460.000000</td>\n",
       "      <td>1460.000000</td>\n",
       "    </tr>\n",
       "    <tr>\n",
       "      <th>mean</th>\n",
       "      <td>0.078410</td>\n",
       "      <td>0.358305</td>\n",
       "      <td>0.348858</td>\n",
       "      <td>0.571918</td>\n",
       "      <td>0.934932</td>\n",
       "      <td>180921.195890</td>\n",
       "    </tr>\n",
       "    <tr>\n",
       "      <th>std</th>\n",
       "      <td>0.813952</td>\n",
       "      <td>0.101972</td>\n",
       "      <td>0.073446</td>\n",
       "      <td>0.139100</td>\n",
       "      <td>0.246731</td>\n",
       "      <td>79442.502883</td>\n",
       "    </tr>\n",
       "    <tr>\n",
       "      <th>min</th>\n",
       "      <td>-2.263422</td>\n",
       "      <td>0.000000</td>\n",
       "      <td>0.000000</td>\n",
       "      <td>0.000000</td>\n",
       "      <td>0.000000</td>\n",
       "      <td>34900.000000</td>\n",
       "    </tr>\n",
       "    <tr>\n",
       "      <th>25%</th>\n",
       "      <td>-0.516802</td>\n",
       "      <td>0.250000</td>\n",
       "      <td>0.333333</td>\n",
       "      <td>0.500000</td>\n",
       "      <td>1.000000</td>\n",
       "      <td>129975.000000</td>\n",
       "    </tr>\n",
       "    <tr>\n",
       "      <th>50%</th>\n",
       "      <td>0.000000</td>\n",
       "      <td>0.375000</td>\n",
       "      <td>0.333333</td>\n",
       "      <td>0.500000</td>\n",
       "      <td>1.000000</td>\n",
       "      <td>163000.000000</td>\n",
       "    </tr>\n",
       "    <tr>\n",
       "      <th>75%</th>\n",
       "      <td>0.483198</td>\n",
       "      <td>0.375000</td>\n",
       "      <td>0.333333</td>\n",
       "      <td>0.625000</td>\n",
       "      <td>1.000000</td>\n",
       "      <td>214000.000000</td>\n",
       "    </tr>\n",
       "    <tr>\n",
       "      <th>max</th>\n",
       "      <td>6.455002</td>\n",
       "      <td>1.000000</td>\n",
       "      <td>1.000000</td>\n",
       "      <td>1.000000</td>\n",
       "      <td>1.000000</td>\n",
       "      <td>755000.000000</td>\n",
       "    </tr>\n",
       "  </tbody>\n",
       "</table>\n",
       "</div>"
      ],
      "text/plain": [
       "         GrLivArea  BedroomAbvGr  KitchenAbvGr  OverallCond   CentralAir  \\\n",
       "count  1460.000000   1460.000000   1460.000000  1460.000000  1460.000000   \n",
       "mean      0.078410      0.358305      0.348858     0.571918     0.934932   \n",
       "std       0.813952      0.101972      0.073446     0.139100     0.246731   \n",
       "min      -2.263422      0.000000      0.000000     0.000000     0.000000   \n",
       "25%      -0.516802      0.250000      0.333333     0.500000     1.000000   \n",
       "50%       0.000000      0.375000      0.333333     0.500000     1.000000   \n",
       "75%       0.483198      0.375000      0.333333     0.625000     1.000000   \n",
       "max       6.455002      1.000000      1.000000     1.000000     1.000000   \n",
       "\n",
       "           SalePrice  \n",
       "count    1460.000000  \n",
       "mean   180921.195890  \n",
       "std     79442.502883  \n",
       "min     34900.000000  \n",
       "25%    129975.000000  \n",
       "50%    163000.000000  \n",
       "75%    214000.000000  \n",
       "max    755000.000000  "
      ]
     },
     "execution_count": 2,
     "metadata": {},
     "output_type": "execute_result"
    }
   ],
   "source": [
    "df.describe()"
   ]
  },
  {
   "cell_type": "markdown",
   "id": "d23fe261",
   "metadata": {},
   "source": [
    "### Default KNN"
   ]
  },
  {
   "cell_type": "markdown",
   "id": "cb3a6a1d",
   "metadata": {},
   "source": [
    "Let use cross validation to evaluate a default KNN Regressor and predict the price of houses (SalePrice)."
   ]
  },
  {
   "cell_type": "code",
   "execution_count": 6,
   "id": "dd52c52b",
   "metadata": {},
   "outputs": [
    {
     "data": {
      "text/plain": [
       "0.6085640394084016"
      ]
     },
     "execution_count": 6,
     "metadata": {},
     "output_type": "execute_result"
    }
   ],
   "source": [
    "from sklearn.neighbors import KNeighborsRegressor\n",
    "from sklearn.model_selection import cross_validate\n",
    "\n",
    "X = df.drop(columns = [\"SalePrice\"])\n",
    "y = df.SalePrice\n",
    "\n",
    "knn_model = KNeighborsRegressor()\n",
    "\n",
    "cv_result = cross_validate(knn_model, X, y)\n",
    "base_knn_score = cv_result[\"test_score\"].mean()\n",
    "\n",
    "base_knn_score"
   ]
  },
  {
   "cell_type": "markdown",
   "id": "e9626f47",
   "metadata": {},
   "source": [
    "# Scale sensitivity"
   ]
  },
  {
   "cell_type": "markdown",
   "id": "5c7fc0ce",
   "metadata": {},
   "source": [
    "KNNs and distance-based algorithms can be extremely sensitive to the scale of the features. \n",
    "\n",
    "Let's Rescale the feature set within an **exact common range**, and save it under a variable named `X_rescaled`  \n",
    "Then, evaluate a model on the rescaled features and save its score under variable name `rescaled_score`."
   ]
  },
  {
   "cell_type": "code",
   "execution_count": 7,
   "id": "e1b878b6",
   "metadata": {},
   "outputs": [
    {
     "data": {
      "text/plain": [
       "0.6496841000103444"
      ]
     },
     "execution_count": 7,
     "metadata": {},
     "output_type": "execute_result"
    }
   ],
   "source": [
    "from sklearn.preprocessing import MinMaxScaler\n",
    "scaler = MinMaxScaler()\n",
    "\n",
    "X_rescaled = scaler.fit_transform(X)\n",
    "\n",
    "cv_results = cross_validate(knn_model, X_rescaled, y)\n",
    "\n",
    "rescaled_score = cv_results[\"test_score\"].mean()\n",
    "\n",
    "rescaled_score"
   ]
  },
  {
   "cell_type": "markdown",
   "id": "922c4b91",
   "metadata": {},
   "source": [
    "The R2 score has increased. It is preferable for features to be in an exact common range when modeling distance-based algorithms. However, it does not always guarantee a better score.\n",
    "It is a trial and error process."
   ]
  },
  {
   "cell_type": "markdown",
   "id": "902a8a3a",
   "metadata": {},
   "source": [
    "# Optimizing $k$"
   ]
  },
  {
   "cell_type": "markdown",
   "id": "cfc4656d",
   "metadata": {},
   "source": [
    "Now let's fine tune the parameter K (using the parameter `n_neighbors`) of a KNNRegressor on the rescaled features. We will also plot the evolution of the score as K increases from 2 until 25."
   ]
  },
  {
   "cell_type": "code",
   "execution_count": 8,
   "id": "8b263eb0",
   "metadata": {},
   "outputs": [],
   "source": [
    "score = []\n",
    "neighbours = []\n",
    "\n",
    "for k in range(1,25):\n",
    "    \n",
    "    # Instanciate the model\n",
    "    knn_model = KNeighborsRegressor(n_neighbors = k)\n",
    "\n",
    "    # Train the model on the scaled Training data\n",
    "    cv_results = cross_validate(knn_model, X_rescaled,y)\n",
    "\n",
    "    # Append the score and k\n",
    "    score.append(cv_results['test_score'].mean())\n",
    "    neighbours.append(k)"
   ]
  },
  {
   "cell_type": "code",
   "execution_count": 9,
   "id": "abbc2a1d",
   "metadata": {},
   "outputs": [
    {
     "data": {
      "image/png": "[encoded data removed]",
      "text/plain": [
       "<Figure size 720x432 with 1 Axes>"
      ]
     },
     "metadata": {
      "needs_background": "light"
     },
     "output_type": "display_data"
    }
   ],
   "source": [
    "with plt.style.context('seaborn-deep'):\n",
    "    # figsize\n",
    "    plt.figure(figsize=(10,6))\n",
    "    # getting axes\n",
    "    ax = plt.gca()\n",
    "    # plotting\n",
    "    ax.plot(range(1,25),score,color='black', linestyle='dashed', marker='o',markerfacecolor='#947FFF', markersize=10)\n",
    "    # more\n",
    "    ax.set_title('Score vs. $K$ Neighbors', fontsize = 18)\n",
    "    ax.set_xlabel('$K$', fontsize = 14)\n",
    "    ax.set_ylabel('R2 score', fontsize = 14)\n",
    "    ax.grid(axis=\"x\",linewidth=0.5)\n",
    "    ax.grid(axis=\"y\",linewidth=0.5)\n",
    "    # best K\n",
    "    # focusing\n",
    "    ax.scatter(5,score[5-1],c='#00ad8b',s=700)\n",
    "    ax.scatter(11,score[11-1],c='#ff6984',s=700)\n",
    "    \n",
    "    # annotate\n",
    "    ax.annotate(\"Elbow Method\", \n",
    "                xy=(5,score[5-1]),\n",
    "                xytext=(5+0.25,score[6-1]-0.025), \n",
    "                arrowprops=dict(arrowstyle='-|>',\n",
    "                                fc=\"k\",\n",
    "                                ec=\"k\",\n",
    "                                lw=2),\n",
    "                bbox=dict(pad=5, facecolor=\"none\", edgecolor=\"none\")\n",
    "               )\n",
    "    \n",
    "    ax.annotate(\"Best K\", \n",
    "            xy=(11,score[11-1]),\n",
    "            xytext=(11+0.25,score[11-1]-0.025), \n",
    "            arrowprops=dict(arrowstyle='-|>',\n",
    "                            fc=\"k\",\n",
    "                            ec=\"k\",\n",
    "                            lw=2),\n",
    "            bbox=dict(pad=5, facecolor=\"none\", edgecolor=\"none\")\n",
    "           )\n",
    "\n",
    "    \n",
    "    plt.show()"
   ]
  },
  {
   "cell_type": "code",
   "execution_count": 11,
   "id": "935228f6",
   "metadata": {},
   "outputs": [
    {
     "data": {
      "text/plain": [
       "-30819.016376089665"
      ]
     },
     "execution_count": 11,
     "metadata": {},
     "output_type": "execute_result"
    }
   ],
   "source": [
    "cv_results = cross_validate(KNeighborsRegressor(n_neighbors=11), X_rescaled,y, scoring = 'neg_mean_absolute_error')\n",
    "\n",
    "price_error = cv_results['test_score'].mean()\n",
    "\n",
    "price_error"
   ]
  },
  {
   "cell_type": "markdown",
   "id": "0317d4fd",
   "metadata": {},
   "source": [
    "# Model Selection"
   ]
  },
  {
   "cell_type": "markdown",
   "id": "df5f8392",
   "metadata": {},
   "source": [
    "KNN model VS Linear Regression Model"
   ]
  },
  {
   "cell_type": "code",
   "execution_count": 12,
   "id": "4f3e9a8f",
   "metadata": {},
   "outputs": [
    {
     "data": {
      "text/plain": [
       "-33586.16906310637"
      ]
     },
     "execution_count": 12,
     "metadata": {},
     "output_type": "execute_result"
    }
   ],
   "source": [
    "from sklearn.linear_model import LinearRegression\n",
    "\n",
    "lin_model = LinearRegression() # Instanciate Linear Regression\n",
    "\n",
    "cv_results_linear = cross_validate(lin_model, X_rescaled,y, scoring = 'neg_mean_absolute_error') # Cross validate\n",
    "\n",
    "linear_model_score = cv_results_linear['test_score'].mean()  # Mean of scores\n",
    "\n",
    "linear_model_score"
   ]
  },
  {
   "cell_type": "markdown",
   "id": "f0a472c1",
   "metadata": {},
   "source": [
    "When comparing either metric of both models, the KNN model has outperformed the Linear Regression model. This could be due to its ability to capture non-linear patterns in the data."
   ]
  },
  {
   "cell_type": "code",
   "execution_count": null,
   "id": "1ad77673",
   "metadata": {},
   "outputs": [],
   "source": []
  }
 ],
 "metadata": {
  "kernelspec": {
   "display_name": "Python 3 (ipykernel)",
   "language": "python",
   "name": "python3"
  },
  "language_info": {
   "codemirror_mode": {
    "name": "ipython",
    "version": 3
   },
   "file_extension": ".py",
   "mimetype": "text/x-python",
   "name": "python",
   "nbconvert_exporter": "python",
   "pygments_lexer": "ipython3",
   "version": "3.8.12"
  }
 },
 "nbformat": 4,
 "nbformat_minor": 5
}
